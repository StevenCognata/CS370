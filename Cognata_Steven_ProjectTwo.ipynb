{
  "metadata": {
    "kernelspec": {
      "name": "python",
      "display_name": "Python (Pyodide)",
      "language": "python"
    },
    "language_info": {
      "codemirror_mode": {
        "name": "python",
        "version": 3
      },
      "file_extension": ".py",
      "mimetype": "text/x-python",
      "name": "python",
      "nbconvert_exporter": "python",
      "pygments_lexer": "ipython3",
      "version": "3.8"
    }
  },
  "nbformat_minor": 4,
  "nbformat": 4,
  "cells": [
    {
      "cell_type": "markdown",
      "source": "# Treasure Hunt Game Notebook\n\n## Read and Review Your Starter Code\nThe theme of this project is a popular treasure hunt game in which the player needs to find the treasure before the pirate does. While you will not be developing the entire game, you will write the part of the game that represents the intelligent agent, which is a pirate in this case. The pirate will try to find the optimal path to the treasure using deep Q-learning. \n\nYou have been provided with two Python classes and this notebook to help you with this assignment. The first class, TreasureMaze.py, represents the environment, which includes a maze object defined as a matrix. The second class, GameExperience.py, stores the episodes – that is, all the states that come in between the initial state and the terminal state. This is later used by the agent for learning by experience, called \"exploration\". This notebook shows how to play a game. Your task is to complete the deep Q-learning implementation for which a skeleton implementation has been provided. The code blocks you will need to complete has #TODO as a header.\n\nFirst, read and review the next few code and instruction blocks to understand the code that you have been given.",
      "metadata": {}
    },
    {
      "cell_type": "code",
      "source": "from __future__ import print_function\nimport os, sys, time, datetime, json, random\nimport numpy as np\nfrom keras.models import Sequential\nfrom keras.layers.core import Dense, Activation\nfrom keras.optimizers import SGD , Adam, RMSprop\nfrom keras.layers.advanced_activations import PReLU\nimport matplotlib.pyplot as plt\nfrom TreasureMaze import TreasureMaze\nfrom GameExperience import GameExperience\n%matplotlib inline",
      "metadata": {
        "trusted": true
      },
      "execution_count": 287,
      "outputs": [
        {
          "ename": "<class 'ModuleNotFoundError'>",
          "evalue": "No module named 'keras'",
          "traceback": [
            "\u001b[0;31m---------------------------------------------------------------------------\u001b[0m",
            "\u001b[0;31mModuleNotFoundError\u001b[0m                       Traceback (most recent call last)",
            "Cell \u001b[0;32mIn[287], line 4\u001b[0m\n\u001b[1;32m      2\u001b[0m \u001b[38;5;28;01mimport\u001b[39;00m \u001b[38;5;21;01mos\u001b[39;00m\u001b[38;5;241m,\u001b[39m \u001b[38;5;21;01msys\u001b[39;00m\u001b[38;5;241m,\u001b[39m \u001b[38;5;21;01mtime\u001b[39;00m\u001b[38;5;241m,\u001b[39m \u001b[38;5;21;01mdatetime\u001b[39;00m\u001b[38;5;241m,\u001b[39m \u001b[38;5;21;01mjson\u001b[39;00m\u001b[38;5;241m,\u001b[39m \u001b[38;5;21;01mrandom\u001b[39;00m\n\u001b[1;32m      3\u001b[0m \u001b[38;5;28;01mimport\u001b[39;00m \u001b[38;5;21;01mnumpy\u001b[39;00m \u001b[38;5;28;01mas\u001b[39;00m \u001b[38;5;21;01mnp\u001b[39;00m\n\u001b[0;32m----> 4\u001b[0m \u001b[38;5;28;01mfrom\u001b[39;00m \u001b[38;5;21;01mkeras\u001b[39;00m\u001b[38;5;21;01m.\u001b[39;00m\u001b[38;5;21;01mmodels\u001b[39;00m \u001b[38;5;28;01mimport\u001b[39;00m Sequential\n\u001b[1;32m      5\u001b[0m \u001b[38;5;28;01mfrom\u001b[39;00m \u001b[38;5;21;01mkeras\u001b[39;00m\u001b[38;5;21;01m.\u001b[39;00m\u001b[38;5;21;01mlayers\u001b[39;00m\u001b[38;5;21;01m.\u001b[39;00m\u001b[38;5;21;01mcore\u001b[39;00m \u001b[38;5;28;01mimport\u001b[39;00m Dense, Activation\n\u001b[1;32m      6\u001b[0m \u001b[38;5;28;01mfrom\u001b[39;00m \u001b[38;5;21;01mkeras\u001b[39;00m\u001b[38;5;21;01m.\u001b[39;00m\u001b[38;5;21;01moptimizers\u001b[39;00m \u001b[38;5;28;01mimport\u001b[39;00m SGD , Adam, RMSprop\n",
            "\u001b[0;31mModuleNotFoundError\u001b[0m: No module named 'keras'"
          ],
          "output_type": "error"
        }
      ]
    },
    {
      "cell_type": "markdown",
      "source": "The following code block contains an 8x8 matrix that will be used as a maze object:",
      "metadata": {}
    },
    {
      "cell_type": "code",
      "source": "maze = np.array([\n    [ 1.,  0.,  1.,  1.,  1.,  1.,  1.,  1.],\n    [ 1.,  0.,  1.,  1.,  1.,  0.,  1.,  1.],\n    [ 1.,  1.,  1.,  1.,  0.,  1.,  0.,  1.],\n    [ 1.,  1.,  1.,  0.,  1.,  1.,  1.,  1.],\n    [ 1.,  1.,  0.,  1.,  1.,  1.,  1.,  1.],\n    [ 1.,  1.,  1.,  0.,  1.,  0.,  0.,  0.],\n    [ 1.,  1.,  1.,  0.,  1.,  1.,  1.,  1.],\n    [ 1.,  1.,  1.,  1.,  0.,  1.,  1.,  1.]\n])",
      "metadata": {
        "trusted": true
      },
      "execution_count": 288,
      "outputs": []
    },
    {
      "cell_type": "markdown",
      "source": "This helper function allows a visual representation of the maze object:",
      "metadata": {}
    },
    {
      "cell_type": "code",
      "source": "def show(qmaze):\n    plt.grid('on')\n    nrows, ncols = qmaze.maze.shape\n    ax = plt.gca()\n    ax.set_xticks(np.arange(0.5, nrows, 1))\n    ax.set_yticks(np.arange(0.5, ncols, 1))\n    ax.set_xticklabels([])\n    ax.set_yticklabels([])\n    canvas = np.copy(qmaze.maze)\n    for row,col in qmaze.visited:\n        canvas[row,col] = 0.6\n    pirate_row, pirate_col, _ = qmaze.state\n    canvas[pirate_row, pirate_col] = 0.3   # pirate cell\n    canvas[nrows-1, ncols-1] = 0.9 # treasure cell\n    img = plt.imshow(canvas, interpolation='none', cmap='gray')\n    return img",
      "metadata": {
        "trusted": true
      },
      "execution_count": 289,
      "outputs": []
    },
    {
      "cell_type": "markdown",
      "source": "The pirate agent can move in four directions: left, right, up, and down. \n\nWhile the agent primarily learns by experience through exploitation, often, the agent can choose to explore the environment to find previously undiscovered paths. This is called \"exploration\" and is defined by epsilon. This value is typically a lower value such as 0.1, which means for every ten attempts, the agent will attempt to learn by experience nine times and will randomly explore a new path one time. You are encouraged to try various values for the exploration factor and see how the algorithm performs.",
      "metadata": {}
    },
    {
      "cell_type": "code",
      "source": "LEFT = 0\nUP = 1\nRIGHT = 2\nDOWN = 3\n\n\n# Exploration factor\nepsilon = 0.1\n\n# Actions dictionary\nactions_dict = {\n    LEFT: 'left',\n    UP: 'up',\n    RIGHT: 'right',\n    DOWN: 'down',\n}\n\nnum_actions = len(actions_dict)\n",
      "metadata": {
        "trusted": true
      },
      "execution_count": 290,
      "outputs": []
    },
    {
      "cell_type": "markdown",
      "source": "The sample code block and output below show creating a maze object and performing one action (DOWN), which returns the reward. The resulting updated environment is visualized.",
      "metadata": {}
    },
    {
      "cell_type": "code",
      "source": "qmaze = TreasureMaze(maze)\ncanvas, reward, game_over = qmaze.act(DOWN)\nprint(\"reward=\", reward)\nshow(qmaze)",
      "metadata": {
        "trusted": true
      },
      "execution_count": 291,
      "outputs": [
        {
          "name": "stdout",
          "text": "reward= -0.04\n",
          "output_type": "stream"
        },
        {
          "execution_count": 291,
          "output_type": "execute_result",
          "data": {
            "text/plain": "<matplotlib.image.AxesImage at 0x62b6840>"
          },
          "metadata": {}
        },
        {
          "output_type": "display_data",
          "data": {
            "text/plain": "<Figure size 640x480 with 1 Axes>",
            "image/png": "[encoded data removed]"
          },
          "metadata": {}
        }
      ]
    },
    {
      "cell_type": "markdown",
      "source": "This function simulates a full game based on the provided trained model. The other parameters include the TreasureMaze object and the starting position of the pirate.",
      "metadata": {}
    },
    {
      "cell_type": "code",
      "source": "def play_game(model, qmaze, pirate_cell):\n    qmaze.reset(pirate_cell)\n    envstate = qmaze.observe()\n    while True:\n        prev_envstate = envstate\n        # get next action\n        q = model.predict(prev_envstate)\n        action = np.argmax(q[0])\n\n        # apply action, get rewards and new state\n        envstate, reward, game_status = qmaze.act(action)\n        if game_status == 'win':\n            return True\n        elif game_status == 'lose':\n            return False",
      "metadata": {
        "trusted": true
      },
      "execution_count": 292,
      "outputs": []
    },
    {
      "cell_type": "markdown",
      "source": "This function helps you to determine whether the pirate can win any game at all. If your maze is not well designed, the pirate may not win any game at all. In this case, your training would not yield any result. The provided maze in this notebook ensures that there is a path to win and you can run this method to check.",
      "metadata": {}
    },
    {
      "cell_type": "code",
      "source": "def completion_check(model, qmaze):\n    for cell in qmaze.free_cells:\n        if not qmaze.valid_actions(cell):\n            return False\n        if not play_game(model, qmaze, cell):\n            return False\n    return True",
      "metadata": {
        "trusted": true
      },
      "execution_count": 293,
      "outputs": []
    },
    {
      "cell_type": "markdown",
      "source": "The code you have been given in this block will build the neural network model. Review the code and note the number of layers, as well as the activation, optimizer, and loss functions that are used to train the model.",
      "metadata": {}
    },
    {
      "cell_type": "code",
      "source": "def build_model(maze):\n    model = Sequential()\n    model.add(Dense(maze.size, input_shape=(maze.size,)))\n    model.add(PReLU())\n    model.add(Dense(maze.size))\n    model.add(PReLU())\n    model.add(Dense(num_actions))\n    model.compile(optimizer='adam', loss='mse')\n    return model",
      "metadata": {
        "trusted": true
      },
      "execution_count": 294,
      "outputs": []
    },
    {
      "cell_type": "markdown",
      "source": "# #TODO: Complete the Q-Training Algorithm Code Block\n\nThis is your deep Q-learning implementation. The goal of your deep Q-learning implementation is to find the best possible navigation sequence that results in reaching the treasure cell while maximizing the reward. In your implementation, you need to determine the optimal number of epochs to achieve a 100% win rate.\n\nYou will need to complete the section starting with #pseudocode. The pseudocode has been included for you.",
      "metadata": {}
    },
    {
      "cell_type": "code",
      "source": "def qtrain(model, maze, **opt):\n    global epsilon \n\n    n_epoch = opt.get('n_epoch', 15000)\n    max_memory = opt.get('max_memory', 1000)\n    data_size = opt.get('data_size', 50)\n    start_time = datetime.datetime.now()\n\n    qmaze = TreasureMaze(maze)\n    experience = GameExperience(model, max_memory=max_memory)\n\n    win_history = []   \n    hsize = qmaze.maze.size//2\n    win_rate = 0.0\n\n    for epoch in range(n_epoch):\n        agent_cell = qmaze.reset()\n        envstate = qmaze.observe()\n        n_episodes = 0\n        loss = 0.0\n        while qmaze.game_status() == 'ongoing':\n            previous_envstate = envstate\n            # decide to explore or exploit\n            if np.random.rand() < epsilon:\n                # explore: choose a random action\n                action = np.random.randint(0, qmaze.n_actions)\n            else:\n                # exploit: choose the action with the highest future reward\n                q = model.predict(previous_envstate)\n                action = np.argmax(q[0])\n\n            envstate, reward, game_status = qmaze.act(action)\n            episode = [previous_envstate, action, reward, envstate, game_status]\n            experience.remember(episode)\n            n_episodes += 1\n\n            inputs, targets = experience.get_data(data_size=data_size)\n            h = model.fit(\n                inputs,\n                targets,\n                epochs=8,\n                batch_size=16,\n                verbose=0,\n            )\n            loss = model.evaluate(inputs, targets, verbose=0)\n        \n        if game_status == 'win':\n            win_history.append(1)\n            win_rate = sum(win_history) / len(win_history)\n        else:\n            win_history.append(0)\n\n        dt = datetime.datetime.now() - start_time\n        t = format_time(dt.total_seconds())\n        template = \"Epoch: {:03d}/{:d} | Loss: {:.4f} | Episodes: {:d} | Win count: {:d} | Win rate: {:.3f} | time: {}\"\n        print(template.format(epoch, n_epoch-1, loss, n_episodes, sum(win_history), win_rate, t))\n\n        if win_rate > 0.9 : epsilon = 0.05\n\n        if sum(win_history[-hsize:]) == hsize and completion_check(model, qmaze):\n            print(\"Reached 100%% win rate at epoch: %d\" % (epoch,))\n            break\n\n    dt = datetime.datetime.now() - start_time\n    seconds = dt.total_seconds()\n    t = format_time(seconds)\n\n    print(\"n_epoch: %d, max_mem: %d, data: %d, time: %s\" % (epoch, max_memory, data_size, t))\n    return seconds\n\ndef format_time(seconds):\n    if seconds < 400:\n        s = float(seconds)\n        return \"%.1f seconds\" % (s,)\n    elif seconds < 4000:\n        m = seconds / 60.0\n        return \"%.2f minutes\" % (m,)\n    else:\n        h = seconds / 3600.0\n        return \"%.2f hours\" % (h,)\n",
      "metadata": {
        "trusted": true
      },
      "execution_count": 295,
      "outputs": []
    },
    {
      "cell_type": "markdown",
      "source": "## Test Your Model\n\nNow we will start testing the deep Q-learning implementation. To begin, select **Cell**, then **Run All** from the menu bar. This will run your notebook. As it runs, you should see output begin to appear beneath the next few cells. The code below creates an instance of TreasureMaze.",
      "metadata": {
        "tags": []
      }
    },
    {
      "cell_type": "code",
      "source": "import matplotlib.pyplot as plt\nqmaze = TreasureMaze(maze)\nshow(qmaze)",
      "metadata": {
        "trusted": true
      },
      "execution_count": 296,
      "outputs": [
        {
          "execution_count": 296,
          "output_type": "execute_result",
          "data": {
            "text/plain": "<matplotlib.image.AxesImage at 0x5d91608>"
          },
          "metadata": {}
        },
        {
          "output_type": "display_data",
          "data": {
            "text/plain": "<Figure size 640x480 with 1 Axes>",
            "image/png": "[encoded data removed]"
          },
          "metadata": {}
        }
      ]
    },
    {
      "cell_type": "markdown",
      "source": "In the next code block, you will build your model and train it using deep Q-learning. Note: This step takes several minutes to fully run.",
      "metadata": {}
    },
    {
      "cell_type": "code",
      "source": "model = build_model(maze)\nqtrain(model, maze, epochs=1000, max_memory=8*maze.size, data_size=32)",
      "metadata": {
        "trusted": true
      },
      "execution_count": 297,
      "outputs": [
        {
          "ename": "<class 'NameError'>",
          "evalue": "name 'Sequential' is not defined",
          "traceback": [
            "\u001b[0;31m---------------------------------------------------------------------------\u001b[0m",
            "\u001b[0;31mNameError\u001b[0m                                 Traceback (most recent call last)",
            "Cell \u001b[0;32mIn[297], line 1\u001b[0m\n\u001b[0;32m----> 1\u001b[0m model \u001b[38;5;241m=\u001b[39m \u001b[43mbuild_model\u001b[49m\u001b[43m(\u001b[49m\u001b[43mmaze\u001b[49m\u001b[43m)\u001b[49m\n\u001b[1;32m      2\u001b[0m qtrain(model, maze, epochs\u001b[38;5;241m=\u001b[39m\u001b[38;5;241m1000\u001b[39m, max_memory\u001b[38;5;241m=\u001b[39m\u001b[38;5;241m8\u001b[39m\u001b[38;5;241m*\u001b[39mmaze\u001b[38;5;241m.\u001b[39msize, data_size\u001b[38;5;241m=\u001b[39m\u001b[38;5;241m32\u001b[39m)\n",
            "Cell \u001b[0;32mIn[294], line 2\u001b[0m, in \u001b[0;36mbuild_model\u001b[0;34m(maze)\u001b[0m\n\u001b[1;32m      1\u001b[0m \u001b[38;5;28;01mdef\u001b[39;00m \u001b[38;5;21mbuild_model\u001b[39m(maze):\n\u001b[0;32m----> 2\u001b[0m     model \u001b[38;5;241m=\u001b[39m \u001b[43mSequential\u001b[49m()\n\u001b[1;32m      3\u001b[0m     model\u001b[38;5;241m.\u001b[39madd(Dense(maze\u001b[38;5;241m.\u001b[39msize, input_shape\u001b[38;5;241m=\u001b[39m(maze\u001b[38;5;241m.\u001b[39msize,)))\n\u001b[1;32m      4\u001b[0m     model\u001b[38;5;241m.\u001b[39madd(PReLU())\n",
            "\u001b[0;31mNameError\u001b[0m: name 'Sequential' is not defined"
          ],
          "output_type": "error"
        }
      ]
    },
    {
      "cell_type": "markdown",
      "source": "This cell will check to see if the model passes the completion check. Note: This could take several minutes.",
      "metadata": {}
    },
    {
      "cell_type": "code",
      "source": "completion_check(model, qmaze)\nshow(qmaze)",
      "metadata": {
        "trusted": true
      },
      "execution_count": 298,
      "outputs": [
        {
          "ename": "<class 'NameError'>",
          "evalue": "name 'model' is not defined",
          "traceback": [
            "\u001b[0;31m---------------------------------------------------------------------------\u001b[0m",
            "\u001b[0;31mNameError\u001b[0m                                 Traceback (most recent call last)",
            "Cell \u001b[0;32mIn[298], line 1\u001b[0m\n\u001b[0;32m----> 1\u001b[0m completion_check(\u001b[43mmodel\u001b[49m, qmaze)\n\u001b[1;32m      2\u001b[0m show(qmaze)\n",
            "\u001b[0;31mNameError\u001b[0m: name 'model' is not defined"
          ],
          "output_type": "error"
        }
      ]
    },
    {
      "cell_type": "markdown",
      "source": "This cell will test your model for one game. It will start the pirate at the top-left corner and run play_game. The agent should find a path from the starting position to the target (treasure). The treasure is located in the bottom-right corner.",
      "metadata": {}
    },
    {
      "cell_type": "code",
      "source": "pirate_start = (0, 0)\nplay_game(model, qmaze, pirate_start)\nshow(qmaze)",
      "metadata": {
        "trusted": true
      },
      "execution_count": 299,
      "outputs": [
        {
          "ename": "<class 'NameError'>",
          "evalue": "name 'model' is not defined",
          "traceback": [
            "\u001b[0;31m---------------------------------------------------------------------------\u001b[0m",
            "\u001b[0;31mNameError\u001b[0m                                 Traceback (most recent call last)",
            "Cell \u001b[0;32mIn[299], line 2\u001b[0m\n\u001b[1;32m      1\u001b[0m pirate_start \u001b[38;5;241m=\u001b[39m (\u001b[38;5;241m0\u001b[39m, \u001b[38;5;241m0\u001b[39m)\n\u001b[0;32m----> 2\u001b[0m play_game(\u001b[43mmodel\u001b[49m, qmaze, pirate_start)\n\u001b[1;32m      3\u001b[0m show(qmaze)\n",
            "\u001b[0;31mNameError\u001b[0m: name 'model' is not defined"
          ],
          "output_type": "error"
        }
      ]
    },
    {
      "cell_type": "markdown",
      "source": "## Save and Submit Your Work\nAfter you have finished creating the code for your notebook, save your work. Make sure that your notebook contains your name in the filename (e.g. Doe_Jane_ProjectTwo.ipynb). This will help your instructor access and grade your work easily. Download a copy of your IPYNB file and submit it to Brightspace. Refer to the Jupyter Notebook in Apporto Tutorial if you need help with these tasks.",
      "metadata": {}
    }
  ]
}